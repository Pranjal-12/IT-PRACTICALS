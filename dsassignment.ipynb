{
  "nbformat": 4,
  "nbformat_minor": 0,
  "metadata": {
    "colab": {
      "name": "dsassignment",
      "provenance": [],
      "collapsed_sections": [],
      "authorship_tag": "ABX9TyPEF33htsQz7SSBjKf0CQ39"
    },
    "kernelspec": {
      "name": "python3",
      "display_name": "Python 3"
    }
  },
  "cells": [
    {
      "cell_type": "code",
      "metadata": {
        "id": "L9o9rVFP507p",
        "colab_type": "code",
        "colab": {
          "base_uri": "https://localhost:8080/",
          "height": 34
        },
        "outputId": "b0bf8e18-2670-44e3-ca4d-8799d27a67a0"
      },
      "source": [
        "import collections\n",
        "de = collections.deque(['mon','tue'])\n",
        "print(de)"
      ],
      "execution_count": 25,
      "outputs": [
        {
          "output_type": "stream",
          "text": [
            "deque(['mon', 'tue'])\n"
          ],
          "name": "stdout"
        }
      ]
    },
    {
      "cell_type": "code",
      "metadata": {
        "id": "IDrxLtlcCDZK",
        "colab_type": "code",
        "colab": {
          "base_uri": "https://localhost:8080/",
          "height": 34
        },
        "outputId": "7a0a1150-a8f2-4c45-e321-6d9ae2835025"
      },
      "source": [
        "de.append('wed')\n",
        "print(de)\n",
        "\n"
      ],
      "execution_count": 26,
      "outputs": [
        {
          "output_type": "stream",
          "text": [
            "deque(['mon', 'tue', 'wed'])\n"
          ],
          "name": "stdout"
        }
      ]
    },
    {
      "cell_type": "code",
      "metadata": {
        "id": "JlbrVYZVDHzD",
        "colab_type": "code",
        "colab": {
          "base_uri": "https://localhost:8080/",
          "height": 34
        },
        "outputId": "4f0a4593-0b8d-484f-b953-6174fae8cdf9"
      },
      "source": [
        "de.appendleft('sun')\n",
        "print(de)"
      ],
      "execution_count": 27,
      "outputs": [
        {
          "output_type": "stream",
          "text": [
            "deque(['sun', 'mon', 'tue', 'wed'])\n"
          ],
          "name": "stdout"
        }
      ]
    },
    {
      "cell_type": "code",
      "metadata": {
        "id": "I9clrvdYDDQY",
        "colab_type": "code",
        "colab": {
          "base_uri": "https://localhost:8080/",
          "height": 34
        },
        "outputId": "bbcd8305-ef2d-4f53-bd39-7d1571db2f12"
      },
      "source": [
        "de.pop() \n",
        "print(de)"
      ],
      "execution_count": 28,
      "outputs": [
        {
          "output_type": "stream",
          "text": [
            "deque(['sun', 'mon', 'tue'])\n"
          ],
          "name": "stdout"
        }
      ]
    },
    {
      "cell_type": "code",
      "metadata": {
        "id": "TXSjRkcFDqvH",
        "colab_type": "code",
        "colab": {
          "base_uri": "https://localhost:8080/",
          "height": 34
        },
        "outputId": "3fb58779-123f-4391-cf6a-b3c5a2c701be"
      },
      "source": [
        "de.reverse()\n",
        "print(de)"
      ],
      "execution_count": 29,
      "outputs": [
        {
          "output_type": "stream",
          "text": [
            "deque(['tue', 'mon', 'sun'])\n"
          ],
          "name": "stdout"
        }
      ]
    },
    {
      "cell_type": "code",
      "metadata": {
        "id": "QJIK8b4qD3M6",
        "colab_type": "code",
        "colab": {
          "base_uri": "https://localhost:8080/",
          "height": 34
        },
        "outputId": "3f84a1a3-e070-42d1-e964-8d25742220d4"
      },
      "source": [
        "de.popleft()\n",
        "print(de)"
      ],
      "execution_count": 31,
      "outputs": [
        {
          "output_type": "stream",
          "text": [
            "deque(['mon', 'sun'])\n"
          ],
          "name": "stdout"
        }
      ]
    }
  ]
}